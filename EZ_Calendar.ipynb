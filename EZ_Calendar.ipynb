{
  "nbformat": 4,
  "nbformat_minor": 0,
  "metadata": {
    "colab": {
      "name": "EZ Calendar.ipynb",
      "provenance": [],
      "collapsed_sections": [],
      "authorship_tag": "ABX9TyOPhoEkIpvEL5Vt6QWc6O6r",
      "include_colab_link": true
    },
    "kernelspec": {
      "name": "python3",
      "display_name": "Python 3"
    },
    "language_info": {
      "name": "python"
    }
  },
  "cells": [
    {
      "cell_type": "markdown",
      "metadata": {
        "id": "view-in-github",
        "colab_type": "text"
      },
      "source": [
        "<a href=\"https://colab.research.google.com/github/Ashwinkumar-J/EZ-Calendar/blob/main/EZ_Calendar.ipynb\" target=\"_parent\"><img src=\"https://colab.research.google.com/assets/colab-badge.svg\" alt=\"Open In Colab\"/></a>"
      ]
    },
    {
      "cell_type": "code",
      "execution_count": null,
      "metadata": {
        "id": "K7fsivWm_eGV",
        "colab": {
          "base_uri": "https://localhost:8080/"
        },
        "outputId": "35a6970c-ea45-41c6-e0d6-16f66d717624"
      },
      "outputs": [
        {
          "output_type": "stream",
          "name": "stdout",
          "text": [
            "                                                       Welcome to EZ Calendar 😁\n",
            "\n",
            "\n",
            "Insert 1 to see Specific Month Calendar of a year \n",
            "\n",
            "\n",
            "Insert 2 to check if the year is a leap year or not\n",
            "\n",
            "\n",
            "Insert 3 to see the entire year Calendar\n",
            "\n",
            "\n",
            "Insert 4 to find Day of the week for a given Date\n",
            "\n",
            "\n",
            "4\n",
            "Enter the Year: 2023\n",
            "Enter the Month: 11\n",
            "Enter the Date: 12\n",
            "Sunday\n",
            "\n",
            "\n",
            "Thank You for using EZ Calendar have a Great Day 😇\n"
          ]
        }
      ],
      "source": [
        "import calendar\n",
        "\n",
        "print(\"                                                       Welcome to EZ Calendar \"+\"\\U0001F601\" )\n",
        "print('\\n')\n",
        "print(\"Insert 1 to see Specific Month Calendar of a year \")\n",
        "print('\\n')\n",
        "print(\"Insert 2 to check if the year is a leap year or not\")\n",
        "print('\\n')\n",
        "print(\"Insert 3 to see the entire year Calendar\")\n",
        "print('\\n')\n",
        "print(\"Insert 4 to find Day of the week for a given Date\")\n",
        "print('\\n')\n",
        "x=int(input())\n",
        "while x>4 or x==0:\n",
        "  print(\"Invalid Input, Please try again\")\n",
        "  x=int(input())\n",
        "else:\n",
        "  if x==1:\n",
        "    yy=int(input(\"Enter the Year: \"))\n",
        "    while yy==0 or yy==0000:\n",
        "      print(\"Invalid Input, Please try again\")\n",
        "      yy=int(input(\"Enter the Year: \"))\n",
        "    mm=int(input(\"Enter the Month: \"))\n",
        "    while mm>12:\n",
        "      print(\"Invalid Input, Please try again\")\n",
        "      mm=int(input(\"Enter the Month: \"))\n",
        "    print(calendar.month(yy,mm))\n",
        "    print('\\n')\n",
        "    print(\"Thank You for using EZ Calendar have a Great Day\"+\" \\U0001F607\")\n",
        "  elif x==2:\n",
        "    yy2=int(input(\"Enter the Year: \"))\n",
        "    while yy2==0 or yy2==0000:\n",
        "      print(\"Invalid Input, Please try again\")\n",
        "      yy2=int(input(\"Enter the Year: \"))\n",
        "    leap=calendar.isleap(yy2)\n",
        "    if leap==True:\n",
        "      print(\"Yes \"+leap+\" is a Leap Year \"+\"\\U0001F601\")\n",
        "    else:\n",
        "      print(\"No \"+str(yy2)+\" is not a Leap Year \"+\"\\U0001F915\")\n",
        "    print('\\n')\n",
        "    print(\"Thank You for using EZ Calendar have a Great Day\"+\" \\U0001F607\")\n",
        "  elif x==3:\n",
        "    yy3=int(input(\"Enter the Year: \"))\n",
        "    while yy3==0 or yy3==0000:\n",
        "      print(\"Invalid Input, Please try again\")\n",
        "      yy3=int(input(\"Enter the Year: \"))\n",
        "    print(calendar.prcal(yy3,w=0,l=0,c=6,m=3))\n",
        "    print('\\n')\n",
        "    print(\"Thank You for using EZ Calendar have a Great Day\"+\" \\U0001F607\")\n",
        "  elif x==4:\n",
        "    yy4=int(input(\"Enter the Year: \"))\n",
        "    while yy4==0 or yy4==0000:\n",
        "      print(\"Invalid Input, Please try again\")\n",
        "      yy4=int(input(\"Enter the Year: \"))\n",
        "    mm4=int(input(\"Enter the Month: \"))\n",
        "    while mm4>12:\n",
        "      print(\"Invalid Input, Please try again\")\n",
        "      mm4=int(input(\"Enter the Month: \"))\n",
        "    dd4=int(input(\"Enter the Date: \"))\n",
        "    while dd4>31:\n",
        "      print(\"Invalid Input, Please try again\")\n",
        "      dd4=int(input(\"Enter the Date: \"))\n",
        "    days =[\"Monday\", \"Tuesday\", \"Wednesday\", \"Thursday\",\"Friday\", \"Saturday\", \"Sunday\"]\n",
        "    daysNumber=(calendar.weekday(yy4,mm4,dd4))\n",
        "    print(days[daysNumber])\n",
        "    print('\\n')\n",
        "    print(\"Thank You for using EZ Calendar have a Great Day\"+\" \\U0001F607\")"
      ]
    }
  ]
}